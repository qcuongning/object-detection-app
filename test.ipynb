{
 "cells": [
  {
   "cell_type": "code",
   "execution_count": 30,
   "metadata": {},
   "outputs": [],
   "source": [
    "from detect import detect\n",
    "from models.experimental import attempt_load\n",
    "from utils.general import  non_max_suppression, scale_coords\n",
    "from utils.plots import plot_one_box"
   ]
  },
  {
   "cell_type": "code",
   "execution_count": 6,
   "metadata": {},
   "outputs": [
    {
     "name": "stdout",
     "output_type": "stream",
     "text": [
      "Fusing layers... \n",
      "RepConv.fuse_repvgg_block\n",
      "RepConv.fuse_repvgg_block\n",
      "RepConv.fuse_repvgg_block\n"
     ]
    }
   ],
   "source": [
    "\n",
    "weights = \"./yolov7.pt\"\n",
    "device = \"cpu\"\n",
    "model = attempt_load(weights, map_location=device)"
   ]
  },
  {
   "cell_type": "code",
   "execution_count": 24,
   "metadata": {},
   "outputs": [],
   "source": [
    "import cv2\n",
    "import numpy as np\n",
    "import torch\n",
    "source = \"./uploads/1.png\"\n",
    "img = cv2.imread(source)\n",
    "img_or = img.copy()\n",
    "img = cv2.resize(img, (320, 320))\n",
    "img = img/255.\n",
    "img = img.transpose(2, 0, 1)\n",
    "img = np.expand_dims(img, 0)\n",
    "img = torch.from_numpy(img).float()"
   ]
  },
  {
   "cell_type": "code",
   "execution_count": 25,
   "metadata": {},
   "outputs": [],
   "source": [
    "pred = model(img)[0]\n",
    "pred = non_max_suppression(pred, 0.25, 0.45, agnostic=False)"
   ]
  },
  {
   "cell_type": "code",
   "execution_count": 22,
   "metadata": {},
   "outputs": [
    {
     "data": {
      "text/plain": [
       "torch.Size([1, 25200, 85])"
      ]
     },
     "execution_count": 22,
     "metadata": {},
     "output_type": "execute_result"
    }
   ],
   "source": [
    "pred[0].shape"
   ]
  },
  {
   "cell_type": "code",
   "execution_count": 27,
   "metadata": {},
   "outputs": [],
   "source": [
    "det = pred[0]\n",
    "names = model.module.names if hasattr(model, 'module') else model.names\n",
    "colors = [[np.random.randint(0, 255) for _ in range(3)] for _ in names]\n",
    "det[:, :4] = scale_coords(img.shape[2:], det[:, :4], img_or.shape).round()\n",
    "for *xyxy, conf, cls in reversed(det):\n",
    "    label = f'{names[int(cls)]} {conf:.2f}'\n",
    "    plot_one_box(xyxy, img_or, label=label, color=colors[int(cls)], line_thickness=1)"
   ]
  },
  {
   "cell_type": "code",
   "execution_count": 29,
   "metadata": {},
   "outputs": [],
   "source": [
    "cv2.imshow(\"aa\", img_or)\n",
    "cv2.waitKey(10000)\n",
    "cv2.destroyAllWindows()"
   ]
  },
  {
   "cell_type": "code",
   "execution_count": null,
   "metadata": {},
   "outputs": [],
   "source": []
  }
 ],
 "metadata": {
  "kernelspec": {
   "display_name": "Python 3",
   "language": "python",
   "name": "python3"
  },
  "language_info": {
   "codemirror_mode": {
    "name": "ipython",
    "version": 3
   },
   "file_extension": ".py",
   "mimetype": "text/x-python",
   "name": "python",
   "nbconvert_exporter": "python",
   "pygments_lexer": "ipython3",
   "version": "3.10.6"
  },
  "orig_nbformat": 4
 },
 "nbformat": 4,
 "nbformat_minor": 2
}
